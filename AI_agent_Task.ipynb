{
  "cells": [
    {
      "cell_type": "markdown",
      "metadata": {
        "id": "jkAtH7s0Oo8g"
      },
      "source": [
        "# Setup"
      ]
    },
    {
      "cell_type": "code",
      "execution_count": null,
      "metadata": {},
      "outputs": [],
      "source": [
        "# Install modules with pip if not already installed"
      ]
    },
    {
      "cell_type": "markdown",
      "metadata": {
        "id": "Vc35QcBzPFvK"
      },
      "source": [
        "# Import dependencies"
      ]
    },
    {
      "cell_type": "code",
      "execution_count": null,
      "metadata": {
        "id": "dfa1bbIoPePT"
      },
      "outputs": [],
      "source": [
        "import time\n",
        "import csv\n",
        "import re\n",
        "\n",
        "import pandas as pd\n",
        "import openpyxl\n",
        "from openpyxl.styles import Font, Alignment\n",
        "import google.generativeai as genai\n",
        "from google.api_core import exceptions\n",
        "\n",
        "from requests.exceptions import ReadTimeout, Timeout"
      ]
    },
    {
      "cell_type": "markdown",
      "metadata": {
        "id": "L2VkRU5NPJWD"
      },
      "source": [
        "# Configure API key and model"
      ]
    },
    {
      "cell_type": "code",
      "execution_count": null,
      "metadata": {
        "id": "PNGGmv4zP2Kh"
      },
      "outputs": [],
      "source": [
        "# For use with Google generative AI API\n",
        "genai.configure(api_key=\"API_KEY\") # Replace API_KEY with your API key\n",
        "model = genai.GenerativeModel('gemini-2.0-pro-exp-02-05') # Or another model"
      ]
    },
    {
      "cell_type": "markdown",
      "metadata": {
        "id": "qiTIf8xRO9vN"
      },
      "source": [
        "# Get data"
      ]
    },
    {
      "cell_type": "code",
      "execution_count": null,
      "metadata": {
        "id": "vuarOoFgQE4U"
      },
      "outputs": [],
      "source": [
        "# Read an excel file\n",
        "df = pd.read_excel(\"use_cases.xlsx\") # Replace with your file name\n",
        "use_cases = df.to_dict(orient='records')"
      ]
    },
    {
      "cell_type": "markdown",
      "metadata": {
        "id": "vC4OBRTRPW-q"
      },
      "source": [
        "# Run the model prompts and generate responses"
      ]
    },
    {
      "cell_type": "markdown",
      "metadata": {},
      "source": [
        "## Generate each use case"
      ]
    },
    {
      "cell_type": "code",
      "execution_count": null,
      "metadata": {
        "colab": {
          "base_uri": "https://localhost:8080/",
          "height": 1000
        },
        "collapsed": true,
        "id": "ZGvUKh9S_zKh",
        "outputId": "4ce6c427-021b-480d-e773-e747d9cf431d"
      },
      "outputs": [],
      "source": [
        "# Generate each use case with retry logic due to API rate limits, reduce delays and retries if needed\n",
        "def generate_with_retry(model, prompt, max_retries=5, initial_delay=2, backoff_factor=2): \n",
        "    for attempt in range(max_retries):\n",
        "        time.sleep(2) # Add a fixed delay just in case\n",
        "        try:\n",
        "            response = model.generate_content(prompt)\n",
        "            return response.text  \n",
        "        except (exceptions.ServiceUnavailable, exceptions.TooManyRequests, ReadTimeout, Timeout) as e:  \n",
        "            print(f\"Attempt {attempt + 1} failed: {e}\")\n",
        "            if attempt < max_retries - 1:\n",
        "                delay = initial_delay * (backoff_factor ** attempt)  \n",
        "                print(f\"Retrying in {delay} seconds...\")\n",
        "                time.sleep(delay)\n",
        "            else:\n",
        "                print(\"Max retries reached. Returning 'N/A'\")\n",
        "                return \"N/A\"  \n",
        "        except Exception as e:\n",
        "            print(f\"An unexpected error occurred: {e}\")\n",
        "            return \"N/A\"  "
      ]
    },
    {
      "cell_type": "markdown",
      "metadata": {},
      "source": [
        "## Simulate posting on a website"
      ]
    },
    {
      "cell_type": "code",
      "execution_count": null,
      "metadata": {},
      "outputs": [],
      "source": [
        "# Simulate posting to a website such as my.ai.se\n",
        "def post_case_to_website(processed_case_data, website_url):\n",
        "    \n",
        "    print(f\"Simulating posting case data to: {website_url}\")\n",
        "    print(f\"Data to be posted: {processed_case_data}\") \n",
        "    time.sleep(1) # Modify delay if necessary\n",
        "    print(\"Data posted successfully.\")\n",
        "    print()\n",
        "    \n",
        "    # In a real scenario, replace with something like\n",
        "    # import requests\n",
        "    # response = requests.post(website_url, json=case_data)\n",
        "    # if response.status_code == 200:\n",
        "    #     print(\"Data posted successfully.\")\n",
        "    # else:\n",
        "    #     print(f\"Error posting data: {response.status_code}\")"
      ]
    },
    {
      "cell_type": "markdown",
      "metadata": {},
      "source": [
        "## Prompts for use cases"
      ]
    },
    {
      "cell_type": "code",
      "execution_count": null,
      "metadata": {},
      "outputs": [],
      "source": [
        "processed_use_cases = []\n",
        "for case in use_cases:\n",
        "    description = case['Beskrivning']\n",
        "\n",
        "    # Create prompts for each function call\n",
        "    extract_info_prompt = f\"\"\"\n",
        "    Analyze the following use case description and provide a summary of the information.  \n",
        "    The company involved is a Swedish energy provider, specialising in electricity, district heating/cooling, sustainable energy.    \n",
        "    In this context, \"Agent\" refers to an AI agent, not a human.\n",
        "    Provide the information directly, without any introductory phrases or conversational language.\n",
        "    Do not describe the company, the client is already familiar with it.\n",
        "    Text: {description}\n",
        "    \"\"\"\n",
        "\n",
        "    analysis_info_prompt = f\"\"\"\n",
        "    Analyze the following text and provide the information in the following format:\n",
        "    Analysis: [Analysis of the text]\n",
        "    Agent Type: [Agent Type]\n",
        "    Category: [Category]\n",
        "    Primary Function: [Primary Function]\n",
        "    Goal: [Goal]\n",
        "    Business Impact: [Business Impact]\n",
        "    Provide the information directly, without any introductory phrases or conversational language.\n",
        "    In this context, \"Agent\" refers to an AI agent, not a human.   \n",
        "    Text: {description}\n",
        "    \"\"\"\n",
        "    \n",
        "    ranking_info_prompt = f\"\"\"\n",
        "    Priority Rank: [Priority Rank]/10, a number between 0 and 10, where 10 is the highest.\n",
        "    Justification of score and reasoning for not scoring higher: [Ranking Justification]\n",
        "    Provide the information directly, without any introductory phrases or conversational language.\n",
        "    In this context, \"Agent\" refers to an AI agent, not a human.\n",
        "    Text: {description}\n",
        "    \"\"\"\n",
        "    \n",
        "    feasiblilty_info_prompt = f\"\"\"\n",
        "    Feasibility Score: [Feasibility Score]/10, a number between 0 and 10, where 10 is the highest.\n",
        "    Justification: [Feasibility Justification]\n",
        "    Provide the information directly, without any introductory phrases or conversational language.\n",
        "    In this context, \"Agent\" refers to an AI agent, not a human.\n",
        "    Text: {description}\n",
        "    \"\"\"\n",
        "    \n",
        "    integration_info_prompt = f\"\"\"\n",
        "    Analyze how company-approved AI & automation tools like Power Automate, Copilot Studio, or Power Apps\n",
        "    (the Microsoft Power Platform suit) can preferably be utilized in the use cases. \n",
        "    Emphasize integration needs, outlining necessary system connections and dependencies.\n",
        "    Provide the information directly, without any introductory phrases or conversational language.\n",
        "    In this context, \"Agent\" refers to an AI agent, not a human.\n",
        "    Text: {description}\n",
        "    \"\"\"\n",
        "    \n",
        "    risk_info_prompt = f\"\"\"\n",
        "    Conduct risk assessment and provide a summary in text format.\n",
        "    Provide the information directly, without any introductory phrases or conversational language.\n",
        "    In this context, \"Agent\" refers to an AI agent, not a human.\n",
        "    Text: {description}\n",
        "    \"\"\"\n",
        "    \n",
        "    time_info_prompt = f\"\"\"\n",
        "    Provide a time estimate for the implementation of the use case. If not possible to estimate, provide a reason.\n",
        "    Time Estimate: [Time Estimate]\n",
        "    Provide the information directly, without any introductory phrases or conversational language.\n",
        "    In this context, \"Agent\" refers to an AI agent, not a human.\n",
        "    Text: {description}\n",
        "    \"\"\"\n",
        "\n",
        "    gap_info_prompt = f\"\"\"\n",
        "    Identify missing information from the text and summarize it in the following format:\n",
        "    Missing Information: [Missing Information]\n",
        "    Questions: [Questions that need to be answered]\n",
        "    Provide the information directly, without any introductory phrases or conversational language.\n",
        "    In this context, \"Agent\" refers to an AI agent, not a human.\n",
        "    Text: {description}\n",
        "    \"\"\"\n",
        "\n",
        "    # Use generate_with_retry for each function call\n",
        "    extracted_info_text = generate_with_retry(model, extract_info_prompt)\n",
        "    print(f\"Case: {case['Titel']}\")\n",
        "    print(f\"Extracted Info: {extracted_info_text}\")\n",
        "    \n",
        "    # Simulate posting the case card to my.ai.se\n",
        "    website_url = \"https://my.ai.se/use-cases\"  # Dummy URL\n",
        "    print(\"--- Case Start ---\")  \n",
        "    print(f\"Posting to: {website_url}\")\n",
        "    print(\"Data posted:\") \n",
        "    print(f\"Case: {case['Titel']}\")\n",
        "    print() \n",
        "    \n",
        "    analysis_info_text = generate_with_retry(model, analysis_info_prompt)\n",
        "    print(f\"{analysis_info_text}\")\n",
        "\n",
        "    ranking_info_text = generate_with_retry(model, ranking_info_prompt)\n",
        "    print(f\"Ranking: {ranking_info_text}\")\n",
        "    \n",
        "    feasibility_info_text = generate_with_retry(model, feasiblilty_info_prompt)\n",
        "    print(f\"Feasibility: {feasibility_info_text}\")\n",
        "    \n",
        "    integration_info_text = generate_with_retry(model, integration_info_prompt)\n",
        "    print(f\"Integration: {integration_info_text}\")\n",
        "    \n",
        "    risk_info_prompt = generate_with_retry(model, risk_info_prompt)\n",
        "    print(f\"Risk Assessment: {risk_info_prompt}\")\n",
        "    \n",
        "    time_info_text = generate_with_retry(model, time_info_prompt)\n",
        "    print(f\"Time Estimate: {time_info_text}\")\n",
        "\n",
        "    gap_info_text = generate_with_retry(model, gap_info_prompt)\n",
        "    print(f\"Gap Info: {gap_info_text}\")\n",
        "    \n",
        "    time.sleep(1)\n",
        "    print(\"Status: Data posted successfully.\")\n",
        "    print(\"--- Case End ---\") # posting to website ends here\n",
        "\n",
        "   # Append to processed_use_cases with separate columns\n",
        "    processed_use_cases.append({\n",
        "        'Original Title': case['Titel'],\n",
        "        'Extracted Info': extracted_info_text,\n",
        "        'Analysis Info': analysis_info_text,        \n",
        "        'Ranking Info': ranking_info_text,\n",
        "        'Feasibility Info': feasibility_info_text,\n",
        "        'Integration Info': integration_info_text,\n",
        "        'Risk Analysis': risk_info_prompt,\n",
        "        'Time Estimate': time_info_text,\n",
        "        'Gap Analysis': gap_info_text\n",
        "    })\n",
        "    \n",
        "\n",
        "    print(f\"Processed case: {case['Titel']}\")\n",
        "    print(\"-\" * 60)\n",
        "    print() # Add a new line for readability"
      ]
    },
    {
      "cell_type": "markdown",
      "metadata": {
        "id": "wMiIuXyjPhiG"
      },
      "source": [
        "# Export response as a spreadsheet"
      ]
    },
    {
      "cell_type": "code",
      "execution_count": null,
      "metadata": {},
      "outputs": [],
      "source": [
        "# Create a new Excel workbook\n",
        "workbook = openpyxl.Workbook()\n",
        "\n",
        "# Create the main index sheet\n",
        "index_sheet = workbook.active\n",
        "index_sheet.title = \"Use Case Index\"\n",
        "index_sheet.append([\"Index\", \"Use Case Title\", \"Priority\", \"Feasibility\"]) \n",
        "\n",
        "bold_font = Font(bold=True)\n",
        "for cell in index_sheet[1]:\n",
        "    cell.font = bold_font\n",
        "\n",
        "# Create individual sheets for each use case\n",
        "for index, case in enumerate(processed_use_cases):\n",
        "    # Create a valid sheet name (replace invalid characters with underscores)\n",
        "    sheet_name = case['Original Title']\n",
        "    sheet_name = re.sub(r'[\\\\/*?\\[\\]:]', '', sheet_name)\n",
        "    sheet_name = sheet_name[:31]\n",
        "    \n",
        "    # Create a new sheet\n",
        "    worksheet = workbook.create_sheet(title=sheet_name)\n",
        "    \n",
        "    # Add data to the sheet\n",
        "    worksheet.append([\"Original Title\", case['Original Title']])\n",
        "    worksheet.append([\"Extracted Info\", case['Extracted Info']])\n",
        "    worksheet.append([\"Analysis\", case['Analysis Info']])\n",
        "    worksheet.append([\"Ranking\", case['Ranking Info']])\n",
        "    worksheet.append([\"Feasibility\", case['Feasibility Info']])\n",
        "    worksheet.append([\"Integration needs\", case['Integration Info']])\n",
        "    worksheet.append([\"Risk assessment\", case['Risk Analysis']])\n",
        "    worksheet.append([\"Time estimate\", case['Time Estimate']])\n",
        "    worksheet.append([\"Gap Analysis\", case['Gap Analysis']])\n",
        "\n",
        "    # Create a link to the sheet on the index page\n",
        "    link_cell = index_sheet.cell(row=index_sheet.max_row + 1, column=1)\n",
        "    link_cell.value = index + 1  \n",
        "    link_cell = index_sheet.cell(row=index_sheet.max_row, column=2)  \n",
        "    link_cell.value = case['Original Title']  \n",
        "    link_cell.hyperlink = f\"#'{sheet_name}'!A1\"\n",
        "    link_cell.style = \"Hyperlink\"\n",
        "\n",
        "    ranking_text = case.get('Ranking Info', 'N/A')\n",
        "    feasibility_text = case.get('Feasibility Info', 'N/A')\n",
        "\n",
        "    # Extract numeric scores using regular expressions\n",
        "    priority_match = re.search(r'Priority Rank:\\s*(\\d+)', ranking_text)\n",
        "    feasibility_match = re.search(r'Feasibility Score:\\s*(\\d+)', feasibility_text)\n",
        "\n",
        "    priority = int(priority_match.group(1)) if priority_match else 'N/A' # Convert to int if match otherwise N/A\n",
        "    feasibility = int(feasibility_match.group(1)) if feasibility_match else 'N/A'\n",
        "\n",
        "    index_sheet.cell(row=index_sheet.max_row, column=3).value = priority\n",
        "    index_sheet.cell(row=index_sheet.max_row, column=4).value = feasibility\n",
        "\n",
        "    first_column = worksheet['A'] \n",
        "    for cell in first_column:\n",
        "        cell.font = bold_font\n",
        "\n",
        "    # Apply word wrap, column width, and vertical alignment to the use case sheets\n",
        "    for col in worksheet.columns:\n",
        "        max_length = 0\n",
        "        column = col[0].column_letter\n",
        "\n",
        "        for cell in col:\n",
        "            try:  \n",
        "                if len(str(cell.value)) > max_length:\n",
        "                    max_length = len(str(cell.value))\n",
        "            except:\n",
        "                pass\n",
        "\n",
        "        adjusted_width = (max_length + 2)\n",
        "        if column == 'B':  # Limit width of column B\n",
        "            adjusted_width = min(adjusted_width, 200)  # Adjust to your preferred max width\n",
        "\n",
        "        worksheet.column_dimensions[column].width = adjusted_width\n",
        "\n",
        "        for cell in col:\n",
        "            cell.alignment = Alignment(wrap_text=True, vertical='top')\n",
        "\n",
        "    # Adjust row height after all cells in the row are populated otherwise it won't show all lines\n",
        "    for row in worksheet.rows:\n",
        "        max_height = 15  # Default row height\n",
        "        for cell in row:\n",
        "            if cell.value:\n",
        "                # Do some maths to estimate number of lines needed \n",
        "                lines = str(cell.value).split('\\n')\n",
        "                line_count = 0\n",
        "                for line in lines:\n",
        "                    line_count += max(1, len(line) // 80) # Adjust 80 based on your font\n",
        "                cell_height = line_count * 15 \n",
        "                max_height = max(max_height, cell_height)\n",
        "        worksheet.row_dimensions[row[0].row].height = max_height\n",
        "\n",
        "# Adjust column widths for the index sheet\n",
        "for col in index_sheet.columns:\n",
        "    max_length = 0\n",
        "    column = col[0].column_letter\n",
        "    \n",
        "    for cell in col:\n",
        "        try:  \n",
        "            if len(str(cell.value)) > max_length:\n",
        "                max_length = len(str(cell.value))\n",
        "        except:\n",
        "            pass\n",
        "\n",
        "    adjusted_width = (max_length + 2) \n",
        "    index_sheet.column_dimensions[column].width = adjusted_width\n",
        "\n",
        "# Remove the default sheet if it's still there\n",
        "if \"Sheet\" in workbook.sheetnames:\n",
        "    default_sheet = workbook[\"Sheet\"]\n",
        "    workbook.remove(default_sheet)\n",
        "\n",
        "# Save the workbook to a local file\n",
        "file_path = \"use_cases_report.xlsx\"  # Specify the desired file name\n",
        "workbook.save(file_path)\n",
        "\n",
        "print(f\"Excel file created: {file_path}\")"
      ]
    },
    {
      "cell_type": "markdown",
      "metadata": {
        "id": "VAFe081sQOO_"
      },
      "source": [
        "# Export response as a csv file"
      ]
    },
    {
      "cell_type": "code",
      "execution_count": null,
      "metadata": {
        "colab": {
          "base_uri": "https://localhost:8080/"
        },
        "id": "t7IbTTtIHN1U",
        "outputId": "9873dcec-bac0-4430-bbb7-d59ff52c61a9"
      },
      "outputs": [],
      "source": [
        "def generate_csv_report(processed_use_cases, file_path=\"use_cases_report.csv\"):\n",
        "    \n",
        "    fieldnames = [\n",
        "        \"Original Title\",\n",
        "        \"Analysis Info\",\n",
        "        \"Ranking Info\",\n",
        "        \"Feasibility Info\",\n",
        "        \"Integration Info\",\n",
        "        \"Risk Analysis\",\n",
        "        \"Time Estimate\",\n",
        "        \"Gap Analysis\",        \n",
        "    ]\n",
        "\n",
        "    with open(file_path, mode=\"w\", newline=\"\", encoding=\"utf-8\") as csvfile:\n",
        "        writer = csv.DictWriter(csvfile, fieldnames=fieldnames, delimiter=';')\n",
        "\n",
        "        writer.writeheader()\n",
        "\n",
        "        for case in processed_use_cases:\n",
        "            row = {fieldname: case.get(fieldname, \"N/A\") for fieldname in fieldnames}\n",
        "            writer.writerow(row)\n",
        "\n",
        "    print(f\"CSV report created: {file_path}\")\n",
        "\n",
        "\n",
        "generate_csv_report(processed_use_cases)"
      ]
    }
  ],
  "metadata": {
    "colab": {
      "machine_shape": "hm",
      "provenance": [],
      "toc_visible": true
    },
    "kernelspec": {
      "display_name": "python313",
      "language": "python",
      "name": "python3"
    },
    "language_info": {
      "codemirror_mode": {
        "name": "ipython",
        "version": 3
      },
      "file_extension": ".py",
      "mimetype": "text/x-python",
      "name": "python",
      "nbconvert_exporter": "python",
      "pygments_lexer": "ipython3",
      "version": "3.13.2"
    }
  },
  "nbformat": 4,
  "nbformat_minor": 0
}
